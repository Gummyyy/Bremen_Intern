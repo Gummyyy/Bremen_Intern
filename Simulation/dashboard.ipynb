{
 "cells": [
  {
   "cell_type": "markdown",
   "source": [
    "Import important library for creating dashboard\n"
   ],
   "metadata": {
    "collapsed": false,
    "pycharm": {
     "name": "#%% md\n"
    }
   }
  },
  {
   "cell_type": "code",
   "execution_count": 1,
   "outputs": [],
   "source": [
    "import numpy\n",
    "from jupyter_dash import JupyterDash\n",
    "import dash\n",
    "from dash import dcc\n",
    "from dash import html\n",
    "from dash import Input, Output\n",
    "from dash import dash_table\n",
    "import pandas as pd\n",
    "import dash_bootstrap_components as dbc\n"
   ],
   "metadata": {
    "collapsed": false,
    "pycharm": {
     "name": "#%%\n"
    }
   }
  },
  {
   "cell_type": "markdown",
   "source": [
    "Read record of travel history and show example of the dataset"
   ],
   "metadata": {
    "collapsed": false,
    "pycharm": {
     "name": "#%% md\n"
    }
   }
  },
  {
   "cell_type": "code",
   "execution_count": 2,
   "outputs": [
    {
     "data": {
      "text/plain": "        agentID  occupation  date  start  destination health_stage\n0             4     Officer     1      0            4      Healthy\n1             6     Officer     1      0            5      Healthy\n2             7     Officer     1      0            2      Healthy\n3             9     Officer     1      0            4      Healthy\n4            13     Officer     1      0            2      Healthy\n...         ...         ...   ...    ...          ...          ...\n150005     2475  Unemployed   365      1            7      Healthy\n150006     2478  Unemployed   365      7            2      Healthy\n150007     2481  Unemployed   365      4            7      Healthy\n150008     2486  Unemployed   365      2            1      Healthy\n150009     2488  Unemployed   365      7            4      Healthy\n\n[150010 rows x 6 columns]",
      "text/html": "<div>\n<style scoped>\n    .dataframe tbody tr th:only-of-type {\n        vertical-align: middle;\n    }\n\n    .dataframe tbody tr th {\n        vertical-align: top;\n    }\n\n    .dataframe thead th {\n        text-align: right;\n    }\n</style>\n<table border=\"1\" class=\"dataframe\">\n  <thead>\n    <tr style=\"text-align: right;\">\n      <th></th>\n      <th>agentID</th>\n      <th>occupation</th>\n      <th>date</th>\n      <th>start</th>\n      <th>destination</th>\n      <th>health_stage</th>\n    </tr>\n  </thead>\n  <tbody>\n    <tr>\n      <th>0</th>\n      <td>4</td>\n      <td>Officer</td>\n      <td>1</td>\n      <td>0</td>\n      <td>4</td>\n      <td>Healthy</td>\n    </tr>\n    <tr>\n      <th>1</th>\n      <td>6</td>\n      <td>Officer</td>\n      <td>1</td>\n      <td>0</td>\n      <td>5</td>\n      <td>Healthy</td>\n    </tr>\n    <tr>\n      <th>2</th>\n      <td>7</td>\n      <td>Officer</td>\n      <td>1</td>\n      <td>0</td>\n      <td>2</td>\n      <td>Healthy</td>\n    </tr>\n    <tr>\n      <th>3</th>\n      <td>9</td>\n      <td>Officer</td>\n      <td>1</td>\n      <td>0</td>\n      <td>4</td>\n      <td>Healthy</td>\n    </tr>\n    <tr>\n      <th>4</th>\n      <td>13</td>\n      <td>Officer</td>\n      <td>1</td>\n      <td>0</td>\n      <td>2</td>\n      <td>Healthy</td>\n    </tr>\n    <tr>\n      <th>...</th>\n      <td>...</td>\n      <td>...</td>\n      <td>...</td>\n      <td>...</td>\n      <td>...</td>\n      <td>...</td>\n    </tr>\n    <tr>\n      <th>150005</th>\n      <td>2475</td>\n      <td>Unemployed</td>\n      <td>365</td>\n      <td>1</td>\n      <td>7</td>\n      <td>Healthy</td>\n    </tr>\n    <tr>\n      <th>150006</th>\n      <td>2478</td>\n      <td>Unemployed</td>\n      <td>365</td>\n      <td>7</td>\n      <td>2</td>\n      <td>Healthy</td>\n    </tr>\n    <tr>\n      <th>150007</th>\n      <td>2481</td>\n      <td>Unemployed</td>\n      <td>365</td>\n      <td>4</td>\n      <td>7</td>\n      <td>Healthy</td>\n    </tr>\n    <tr>\n      <th>150008</th>\n      <td>2486</td>\n      <td>Unemployed</td>\n      <td>365</td>\n      <td>2</td>\n      <td>1</td>\n      <td>Healthy</td>\n    </tr>\n    <tr>\n      <th>150009</th>\n      <td>2488</td>\n      <td>Unemployed</td>\n      <td>365</td>\n      <td>7</td>\n      <td>4</td>\n      <td>Healthy</td>\n    </tr>\n  </tbody>\n</table>\n<p>150010 rows × 6 columns</p>\n</div>"
     },
     "execution_count": 2,
     "metadata": {},
     "output_type": "execute_result"
    }
   ],
   "source": [
    "df = pd.read_csv('travel_history.csv')\n",
    "df"
   ],
   "metadata": {
    "collapsed": false,
    "pycharm": {
     "name": "#%%\n"
    }
   }
  },
  {
   "cell_type": "markdown",
   "source": [
    "group the dataset by date and Travel Route(Start-Destination) and count each health stage of traveller\n",
    "\n",
    "this process is performed to get the summary of the mobility in each date"
   ],
   "metadata": {
    "collapsed": false,
    "pycharm": {
     "name": "#%% md\n"
    }
   }
  },
  {
   "cell_type": "code",
   "execution_count": 3,
   "outputs": [
    {
     "data": {
      "text/plain": "      Date  Start  Destination  Healthy  Incubating  Infected\n0        1      0            1        4           0         0\n1        1      0            2       23           0         0\n2        1      0            3       16           0         0\n3        1      0            4        4           0         0\n4        1      0            5        3           0         0\n...    ...    ...          ...      ...         ...       ...\n8013   365      5            7        3           0         0\n8014   365      6            7       22           0         0\n8015   365      7            2       26           0         0\n8016   365      7            4       27           0         0\n8017   365      7            6       14           0         0\n\n[8018 rows x 6 columns]",
      "text/html": "<div>\n<style scoped>\n    .dataframe tbody tr th:only-of-type {\n        vertical-align: middle;\n    }\n\n    .dataframe tbody tr th {\n        vertical-align: top;\n    }\n\n    .dataframe thead th {\n        text-align: right;\n    }\n</style>\n<table border=\"1\" class=\"dataframe\">\n  <thead>\n    <tr style=\"text-align: right;\">\n      <th></th>\n      <th>Date</th>\n      <th>Start</th>\n      <th>Destination</th>\n      <th>Healthy</th>\n      <th>Incubating</th>\n      <th>Infected</th>\n    </tr>\n  </thead>\n  <tbody>\n    <tr>\n      <th>0</th>\n      <td>1</td>\n      <td>0</td>\n      <td>1</td>\n      <td>4</td>\n      <td>0</td>\n      <td>0</td>\n    </tr>\n    <tr>\n      <th>1</th>\n      <td>1</td>\n      <td>0</td>\n      <td>2</td>\n      <td>23</td>\n      <td>0</td>\n      <td>0</td>\n    </tr>\n    <tr>\n      <th>2</th>\n      <td>1</td>\n      <td>0</td>\n      <td>3</td>\n      <td>16</td>\n      <td>0</td>\n      <td>0</td>\n    </tr>\n    <tr>\n      <th>3</th>\n      <td>1</td>\n      <td>0</td>\n      <td>4</td>\n      <td>4</td>\n      <td>0</td>\n      <td>0</td>\n    </tr>\n    <tr>\n      <th>4</th>\n      <td>1</td>\n      <td>0</td>\n      <td>5</td>\n      <td>3</td>\n      <td>0</td>\n      <td>0</td>\n    </tr>\n    <tr>\n      <th>...</th>\n      <td>...</td>\n      <td>...</td>\n      <td>...</td>\n      <td>...</td>\n      <td>...</td>\n      <td>...</td>\n    </tr>\n    <tr>\n      <th>8013</th>\n      <td>365</td>\n      <td>5</td>\n      <td>7</td>\n      <td>3</td>\n      <td>0</td>\n      <td>0</td>\n    </tr>\n    <tr>\n      <th>8014</th>\n      <td>365</td>\n      <td>6</td>\n      <td>7</td>\n      <td>22</td>\n      <td>0</td>\n      <td>0</td>\n    </tr>\n    <tr>\n      <th>8015</th>\n      <td>365</td>\n      <td>7</td>\n      <td>2</td>\n      <td>26</td>\n      <td>0</td>\n      <td>0</td>\n    </tr>\n    <tr>\n      <th>8016</th>\n      <td>365</td>\n      <td>7</td>\n      <td>4</td>\n      <td>27</td>\n      <td>0</td>\n      <td>0</td>\n    </tr>\n    <tr>\n      <th>8017</th>\n      <td>365</td>\n      <td>7</td>\n      <td>6</td>\n      <td>14</td>\n      <td>0</td>\n      <td>0</td>\n    </tr>\n  </tbody>\n</table>\n<p>8018 rows × 6 columns</p>\n</div>"
     },
     "execution_count": 3,
     "metadata": {},
     "output_type": "execute_result"
    }
   ],
   "source": [
    "route_df = df.groupby(['date','start','destination'])['health_stage'].value_counts().unstack(fill_value=0).reset_index()\n",
    "date = route_df[\"date\"]\n",
    "start = route_df[\"start\"]\n",
    "destination = route_df[\"destination\"]\n",
    "Healthy =  route_df[\"Healthy\"]\n",
    "Incubating =  route_df[\"Incubating\"]\n",
    "Infected =  route_df[\"Infected\"]\n",
    "data = {\"Date\": date, \"Start\": start, \"Destination\": destination, \"Healthy\": Healthy, \"Incubating\": Incubating, \"Infected\": Infected }\n",
    "new_route_df = pd.DataFrame(data)\n",
    "new_route_df"
   ],
   "metadata": {
    "collapsed": false,
    "pycharm": {
     "name": "#%%\n"
    }
   }
  },
  {
   "cell_type": "code",
   "execution_count": 4,
   "outputs": [
    {
     "data": {
      "text/plain": "      Date  Start  Destination  Healthy  Incubating  Infected Route\n0        1      0            1        4           0         0  0->1\n1        1      0            2       23           0         0  0->2\n2        1      0            3       16           0         0  0->3\n3        1      0            4        4           0         0  0->4\n4        1      0            5        3           0         0  0->5\n...    ...    ...          ...      ...         ...       ...   ...\n8013   365      5            7        3           0         0  5->7\n8014   365      6            7       22           0         0  6->7\n8015   365      7            2       26           0         0  7->2\n8016   365      7            4       27           0         0  7->4\n8017   365      7            6       14           0         0  7->6\n\n[8018 rows x 7 columns]",
      "text/html": "<div>\n<style scoped>\n    .dataframe tbody tr th:only-of-type {\n        vertical-align: middle;\n    }\n\n    .dataframe tbody tr th {\n        vertical-align: top;\n    }\n\n    .dataframe thead th {\n        text-align: right;\n    }\n</style>\n<table border=\"1\" class=\"dataframe\">\n  <thead>\n    <tr style=\"text-align: right;\">\n      <th></th>\n      <th>Date</th>\n      <th>Start</th>\n      <th>Destination</th>\n      <th>Healthy</th>\n      <th>Incubating</th>\n      <th>Infected</th>\n      <th>Route</th>\n    </tr>\n  </thead>\n  <tbody>\n    <tr>\n      <th>0</th>\n      <td>1</td>\n      <td>0</td>\n      <td>1</td>\n      <td>4</td>\n      <td>0</td>\n      <td>0</td>\n      <td>0-&gt;1</td>\n    </tr>\n    <tr>\n      <th>1</th>\n      <td>1</td>\n      <td>0</td>\n      <td>2</td>\n      <td>23</td>\n      <td>0</td>\n      <td>0</td>\n      <td>0-&gt;2</td>\n    </tr>\n    <tr>\n      <th>2</th>\n      <td>1</td>\n      <td>0</td>\n      <td>3</td>\n      <td>16</td>\n      <td>0</td>\n      <td>0</td>\n      <td>0-&gt;3</td>\n    </tr>\n    <tr>\n      <th>3</th>\n      <td>1</td>\n      <td>0</td>\n      <td>4</td>\n      <td>4</td>\n      <td>0</td>\n      <td>0</td>\n      <td>0-&gt;4</td>\n    </tr>\n    <tr>\n      <th>4</th>\n      <td>1</td>\n      <td>0</td>\n      <td>5</td>\n      <td>3</td>\n      <td>0</td>\n      <td>0</td>\n      <td>0-&gt;5</td>\n    </tr>\n    <tr>\n      <th>...</th>\n      <td>...</td>\n      <td>...</td>\n      <td>...</td>\n      <td>...</td>\n      <td>...</td>\n      <td>...</td>\n      <td>...</td>\n    </tr>\n    <tr>\n      <th>8013</th>\n      <td>365</td>\n      <td>5</td>\n      <td>7</td>\n      <td>3</td>\n      <td>0</td>\n      <td>0</td>\n      <td>5-&gt;7</td>\n    </tr>\n    <tr>\n      <th>8014</th>\n      <td>365</td>\n      <td>6</td>\n      <td>7</td>\n      <td>22</td>\n      <td>0</td>\n      <td>0</td>\n      <td>6-&gt;7</td>\n    </tr>\n    <tr>\n      <th>8015</th>\n      <td>365</td>\n      <td>7</td>\n      <td>2</td>\n      <td>26</td>\n      <td>0</td>\n      <td>0</td>\n      <td>7-&gt;2</td>\n    </tr>\n    <tr>\n      <th>8016</th>\n      <td>365</td>\n      <td>7</td>\n      <td>4</td>\n      <td>27</td>\n      <td>0</td>\n      <td>0</td>\n      <td>7-&gt;4</td>\n    </tr>\n    <tr>\n      <th>8017</th>\n      <td>365</td>\n      <td>7</td>\n      <td>6</td>\n      <td>14</td>\n      <td>0</td>\n      <td>0</td>\n      <td>7-&gt;6</td>\n    </tr>\n  </tbody>\n</table>\n<p>8018 rows × 7 columns</p>\n</div>"
     },
     "execution_count": 4,
     "metadata": {},
     "output_type": "execute_result"
    }
   ],
   "source": [
    "new_route_df[\"Route\"] =  new_route_df['Start'].astype(str) + '->' + new_route_df['Destination'].astype(str)\n",
    "new_route_df"
   ],
   "metadata": {
    "collapsed": false,
    "pycharm": {
     "name": "#%%\n"
    }
   }
  },
  {
   "cell_type": "markdown",
   "source": [
    "Read record of cluster state and create figure for geographical visualization"
   ],
   "metadata": {
    "collapsed": false,
    "pycharm": {
     "name": "#%% md\n"
    }
   }
  },
  {
   "cell_type": "code",
   "execution_count": 5,
   "outputs": [],
   "source": [
    "import plotly.express as px\n",
    "\n",
    "cluster_detail= pd.read_csv('cluster_detail.csv')\n",
    "cluster_detail[\"population\"] = cluster_detail[[\"Healthy\",\"Incubating\",\"Infected\"]].sum(axis=1)\n",
    "#cluster_detail = cluster_detail[cluster_detail[\"Date\"]==1]\n",
    "fig = px.scatter_mapbox(cluster_detail[cluster_detail[\"Date\"]==0], lat=\"lat\", lon=\"lon\",size=\"Infected\", hover_name=\"Cluster\", hover_data=[\"Risk\", \"population\"],\n",
    "                        color_discrete_sequence=[\"red\"], zoom=8, height=400)\n",
    "fig.update_layout(mapbox_style=\"open-street-map\")\n",
    "fig.update_layout(margin={\"r\":0,\"t\":0,\"l\":0,\"b\":0})\n",
    "fig.update_layout(margin={\"r\": 0, \"t\": 0, \"l\": 0, \"b\": 0})\n",
    "cluster_detail = cluster_detail.rename(\n",
    "    columns={'M_Suscept': 'Mosquitoes_Suscept', 'M_Latent': 'Mosquitoes_Latent', 'M_Infected': 'Mosquitoes_Infected'})"
   ],
   "metadata": {
    "collapsed": false,
    "pycharm": {
     "name": "#%%\n"
    }
   }
  },
  {
   "cell_type": "markdown",
   "source": [
    "Create the function for drawing the geographical plot on dashboard"
   ],
   "metadata": {
    "collapsed": false,
    "pycharm": {
     "name": "#%% md\n"
    }
   }
  },
  {
   "cell_type": "code",
   "execution_count": 6,
   "outputs": [],
   "source": [
    "\n",
    "def drawMap():\n",
    "    return  html.Div([\n",
    "        dbc.Card(\n",
    "            dbc.CardBody([\n",
    "                html.H4(\"Area with Infected agent\"),\n",
    "                dcc.Graph(\n",
    "                    id=\"mapviz\",\n",
    "                    figure=fig.update_layout(\n",
    "                        template='plotly_dark',\n",
    "                        plot_bgcolor= 'rgba(0, 0, 0, 0)',\n",
    "                        paper_bgcolor= 'rgba(0, 0, 0, 0)',\n",
    "                    ),\n",
    "                    config={\n",
    "                        'displayModeBar': False\n",
    "                    }\n",
    "                )\n",
    "            ])\n",
    "        ),\n",
    "    ])"
   ],
   "metadata": {
    "collapsed": false,
    "pycharm": {
     "name": "#%%\n"
    }
   }
  },
  {
   "cell_type": "markdown",
   "source": [
    "Create the function for create the table plot, contain detail of each cluster, on dashboard"
   ],
   "metadata": {
    "collapsed": false,
    "pycharm": {
     "name": "#%% md\n"
    }
   }
  },
  {
   "cell_type": "code",
   "execution_count": 7,
   "outputs": [],
   "source": [
    "\n",
    "def drawDatatable():\n",
    "    data_df = cluster_detail[cluster_detail.Date == 0]\n",
    "    data_df = data_df.filter([\"Cluster\",'Healthy','Incubating','Infected',\"Mosquitoes_Suscept\",\"Mosquitoes_Latent\",\"Mosquitoes_Infected\",'Risk'])\n",
    "    return html.Div([\n",
    "        dbc.Card(\n",
    "            dbc.CardBody([\n",
    "                html.H4(\"Daily Cluster Detail\"),\n",
    "                dash_table.DataTable(\n",
    "                    data_df.to_dict('records'),\n",
    "                    [{\"name\": i, \"id\": i} for i in data_df.columns],\n",
    "                    id=\"data_table\"\n",
    "\n",
    "                ,style_as_list_view=True)\n",
    "            ])\n",
    "        ),\n",
    "    ])"
   ],
   "metadata": {
    "collapsed": false,
    "pycharm": {
     "name": "#%%\n"
    }
   }
  },
  {
   "cell_type": "markdown",
   "source": [
    "create line + scatter plot for risk, agent population visualization"
   ],
   "metadata": {
    "collapsed": false,
    "pycharm": {
     "name": "#%% md\n"
    }
   }
  },
  {
   "cell_type": "code",
   "execution_count": 8,
   "outputs": [],
   "source": [
    "from plotly.subplots import make_subplots\n",
    "import plotly.graph_objects as go\n",
    "fig_risk = px.line(cluster_detail[cluster_detail[\"Date\"]==0], x='Date', y='Risk', color='Cluster', markers=True, title=\"Cluster Risk overview\")\n",
    "#fig_risk = fig_risk.update_xaxes(range = [0,100])\n",
    "\n",
    "fig_pop = px.line(cluster_detail[cluster_detail[\"Date\"]==0], x='Date', y='Mosquitoes_Suscept' , color='Cluster', markers=True, title=\"Population of Mosquitoes overview\")\n",
    "#fig_pop = fig_risk.update_xaxes(range = [0,100])\n",
    "\n",
    "fig_h_suscept = px.line(cluster_detail[cluster_detail[\"Date\"]==0], x='Date', y='Healthy' , color='Cluster', markers=True, title=\"Volumn of Susceptible Agent on each cluster\")\n",
    "fig_h_incubate = px.line(cluster_detail[cluster_detail[\"Date\"]==0], x='Date', y='Incubating' , color='Cluster', markers=True, title=\"Volumn of Latent Agent on each cluster\")\n",
    "fig_h_infect = px.line(cluster_detail[cluster_detail[\"Date\"]==0], x='Date', y='Infected' , color='Cluster', markers=True, title=\"Volumn of Infected Agent on each cluster\")\n",
    "\n",
    "def drawRiskmap():\n",
    "    date_df = cluster_detail[cluster_detail.Date == 0]\n",
    "    return html.Div([\n",
    "        dbc.Card(\n",
    "            dbc.CardBody([\n",
    "                dcc.Graph(\n",
    "                    id=\"riskviz\",\n",
    "                    figure=fig_risk.update_layout(\n",
    "                        template='plotly',\n",
    "                    ),\n",
    "                    config={\n",
    "                        'displayModeBar': False\n",
    "                    }\n",
    "                )\n",
    "            ])\n",
    "        ),\n",
    "    ])\n",
    "\n",
    "\n",
    "def drawPopmap():\n",
    "    date_df = cluster_detail[cluster_detail.Date == 0]\n",
    "    return html.Div([\n",
    "\n",
    "        dbc.Card(\n",
    "            dbc.CardBody([\n",
    "                dcc.Graph(\n",
    "                    id=\"popviz\",\n",
    "                    figure=fig_pop.update_layout(\n",
    "                        template='plotly',\n",
    "                    ),\n",
    "                    config={\n",
    "                        'displayModeBar': False\n",
    "                    }\n",
    "                )\n",
    "            ])\n",
    "        ),\n",
    "    ])\n",
    "\n",
    "def draw_H_sus():\n",
    "    date_df = cluster_detail[cluster_detail.Date == 0]\n",
    "    return html.Div([\n",
    "\n",
    "        dbc.Card(\n",
    "            dbc.CardBody([\n",
    "                dcc.Graph(\n",
    "                    id=\"h_suscept_viz\",\n",
    "                    figure=fig_h_suscept.update_layout(\n",
    "                        template='plotly',\n",
    "                    ),\n",
    "                    config={\n",
    "                        'displayModeBar': False\n",
    "                    }\n",
    "                )\n",
    "            ])\n",
    "        ),\n",
    "    ])\n",
    "def draw_H_incubate():\n",
    "    date_df = cluster_detail[cluster_detail.Date == 0]\n",
    "    return html.Div([\n",
    "\n",
    "        dbc.Card(\n",
    "            dbc.CardBody([\n",
    "                dcc.Graph(\n",
    "                    id=\"h_incubate_viz\",\n",
    "                    figure=fig_h_incubate.update_layout(\n",
    "                        template='plotly',\n",
    "                    ),\n",
    "                    config={\n",
    "                        'displayModeBar': False\n",
    "                    }\n",
    "                )\n",
    "            ])\n",
    "        ),\n",
    "    ])\n",
    "def draw_H_infect():\n",
    "    date_df = cluster_detail[cluster_detail.Date == 0]\n",
    "    return html.Div([\n",
    "\n",
    "        dbc.Card(\n",
    "            dbc.CardBody([\n",
    "                dcc.Graph(\n",
    "                    id=\"h_infect_viz\",\n",
    "                    figure=fig_h_infect.update_layout(\n",
    "                        template='plotly',\n",
    "                    ),\n",
    "                    config={\n",
    "                        'displayModeBar': False\n",
    "                    }\n",
    "                )\n",
    "            ])\n",
    "        ),\n",
    "    ])"
   ],
   "metadata": {
    "collapsed": false,
    "pycharm": {
     "name": "#%%\n"
    }
   }
  },
  {
   "cell_type": "markdown",
   "source": [
    "Create table for visualize the travel history of the agent"
   ],
   "metadata": {
    "collapsed": false,
    "pycharm": {
     "name": "#%% md\n"
    }
   }
  },
  {
   "cell_type": "code",
   "execution_count": 9,
   "outputs": [],
   "source": [
    "table_header = [\n",
    "    html.Thead(html.Tr([html.Th(\"Route\"), html.Th(\"Healthy\"),html.Th(\"Incubating\"),html.Th(\"Infected\")]))\n",
    "]\n",
    "color_map = [\"red\",\"green\",\"orange\",\"yellow\",\"pink\",\"blue\",\"purple\",\"navy\"]\n",
    "row = []\n",
    "\n",
    "for i, record in new_route_df[new_route_df.Date == 1].iterrows() :\n",
    "    row.append(html.Tr([html.Td([dbc.Badge(str(record['Start']),pill=True,color=color_map[record[\"Start\"]] ),html.P(\" -> \"), dbc.Badge(str(record['Destination']),pill=True,color=color_map[record[\"Destination\"]] )]), html.Td(record['Healthy']), html.Td(record['Incubating']), html.Td(record['Infected'])]))\n",
    "\n",
    "table_body = [html.Tbody(row)]\n",
    "\n",
    "def drawroutetable():\n",
    "    data_df = new_route_df[new_route_df.Date == 1]\n",
    "    data_df = data_df.filter([\"Route\",\"Healthy\",\"Incubating\",\"Infected\"])\n",
    "    return html.Div([\n",
    "        dbc.Card(\n",
    "            dbc.CardBody([\n",
    "                html.H4(\"Daily Transmission\"),\n",
    "                #dbc.Table(table_header + table_body, bordered=True)\n",
    "                dash_table.DataTable(\n",
    "                    data_df.to_dict('records'),\n",
    "                    [{\"name\": i, \"id\": i} for i in data_df.columns],\n",
    "                    # columns=[\n",
    "                    #     {\"id\": \"Start\", \"name\": \"Start\", \"presentation\": \"markdown\"},\n",
    "                    #     {\"id\": \"Route\", \"name\": \"Route\", \"presentation\": \"markdown\"},\n",
    "                    #     {\"id\": \"Destination\", \"name\": \"Destination\", \"presentation\": \"markdown\"},\n",
    "                    #     {\"id\": \"Healthy\", \"name\": \"Healthy\"},\n",
    "                    #     {\"id\": \"Incubating\", \"name\": \"Incubating\"},\n",
    "                    #     {\"id\": \"Infected\", \"name\": \"Infected\"},\n",
    "                    # ],markdown_options={\"html\": True},\n",
    "                    id=\"route_table\"\n",
    "                    ,style_as_list_view=True)\n",
    "\n",
    "            ])\n",
    "        ,style={\"height\": \"570px\",\"overflow-x\": \"scroll\"}),\n",
    "    ])"
   ],
   "metadata": {
    "collapsed": false,
    "pycharm": {
     "name": "#%%\n"
    }
   }
  },
  {
   "cell_type": "markdown",
   "source": [
    "Initiate the dashboard application & insert visualization to card element in dashboard"
   ],
   "metadata": {
    "collapsed": false,
    "pycharm": {
     "name": "#%% md\n"
    }
   }
  },
  {
   "cell_type": "code",
   "execution_count": 10,
   "outputs": [],
   "source": [
    "import math\n",
    "def cal_accum_risk(series):\n",
    "    inverse_risk_series = [1-x for x in series]\n",
    "    risk_prod = math.prod(inverse_risk_series)\n",
    "    if(risk_prod)> 1:\n",
    "        print(inverse_risk_series)\n",
    "        print(risk_prod)\n",
    "    return 1- risk_prod"
   ],
   "metadata": {
    "collapsed": false,
    "pycharm": {
     "name": "#%%\n"
    }
   }
  },
  {
   "cell_type": "code",
   "execution_count": 11,
   "outputs": [],
   "source": [
    "import plotly.express as px\n",
    "\n",
    "app = JupyterDash(__name__, external_stylesheets=[dbc.themes.BOOTSTRAP])\n",
    "\n",
    "# Create server variable with Flask server object for use with gcorn\n",
    "server = app.server\n",
    "df = px.data.iris()\n",
    "def drawText():\n",
    "    return html.Div([\n",
    "        dbc.Card(\n",
    "            dbc.CardBody([\n",
    "                html.Div([\n",
    "                    html.H2(\"Malaria Transmission on Human Mobility\"),\n",
    "                    #html.H4(\"Risk Calculation\")\n",
    "                ], style={'textAlign': 'center'})\n",
    "            ])\n",
    "        ),\n",
    "    ])\n",
    "\n",
    "def drawFigure():\n",
    "    return  html.Div([\n",
    "        dbc.Card(\n",
    "            dbc.CardBody([\n",
    "                dcc.Graph(\n",
    "                    figure=px.bar(\n",
    "                        df, x=\"sepal_width\", y=\"sepal_length\", color=\"species\"\n",
    "                    ).update_layout(\n",
    "                        template='plotly_dark',\n",
    "                        plot_bgcolor= 'rgba(0, 0, 0, 0)',\n",
    "                        paper_bgcolor= 'rgba(0, 0, 0, 0)',\n",
    "                    ),\n",
    "                    config={\n",
    "                        'displayModeBar': False\n",
    "                    }\n",
    "                )\n",
    "            ])\n",
    "        ),\n",
    "    ])\n",
    "\n",
    "\n",
    "app.layout = html.Div([\n",
    "\n",
    "    # dbc.NavbarSimple(dbc.Container(\n",
    "    #     [\n",
    "    #         dbc.Row([\n",
    "    #             dbc.Col([\n",
    "    #                 html.H1(\"Date of Simulation\")\n",
    "    #\n",
    "    #             ], width=2),\n",
    "    #             dbc.Col([\n",
    "    #                 html.Div(dcc.Slider(  #slider\n",
    "    #                     id='date-slider',\n",
    "    #                     min=cluster_detail[\"Date\"].min(),\n",
    "    #                     max=cluster_detail[\"Date\"].max(),\n",
    "    #                     value=0,\n",
    "    #                     tooltip={\"placement\": \"bottom\", \"always_visible\": True},\n",
    "    #                     step=None\n",
    "    #                 ), style={'width': '75%', 'padding': '20px 20px 20px 20px'})\n",
    "    #\n",
    "    #             ], width=10)\n",
    "    #             ],\n",
    "    #             align=\"center\",\n",
    "    #         ),\n",
    "    #\n",
    "    #      ]\n",
    "    # ), fixed=\"bottom\"),\n",
    "    dbc.Card(\n",
    "        dbc.CardBody([\n",
    "            dbc.Row([\n",
    "                dbc.Col([\n",
    "                    drawText(),\n",
    "\n",
    "                ], width=12),\n",
    "            ], align='center'),\n",
    "            html.Br(),\n",
    "            dbc.Row([\n",
    "                dbc.Col([\n",
    "                    drawMap()\n",
    "                ], width=7),\n",
    "                dbc.Col([\n",
    "                    drawroutetable(),\n",
    "\n",
    "                ], width=5)\n",
    "            ], align='center'),\n",
    "            html.Br(),\n",
    "            dbc.Row([\n",
    "                dbc.Col([\n",
    "                    drawRiskmap()\n",
    "                ], width=6),\n",
    "                dbc.Col([\n",
    "                    drawPopmap()\n",
    "                ], width=6),\n",
    "            ], align='center'),\n",
    "            html.Br(),\n",
    "            dbc.Row([\n",
    "                dbc.Col([\n",
    "                   draw_H_sus()\n",
    "                ], width=4),\n",
    "                dbc.Col([\n",
    "                    draw_H_incubate()\n",
    "                ], width=4),\n",
    "                dbc.Col([\n",
    "                    draw_H_infect()\n",
    "                ], width=4),\n",
    "            ], align='center'),\n",
    "            html.Br(),\n",
    "            dbc.Row([\n",
    "                dbc.Col([\n",
    "                    drawDatatable()\n",
    "                ], width=12),\n",
    "            ]),\n",
    "            html.Br(),\n",
    "            html.Br(),\n",
    "            html.Br(),\n",
    "            html.Br(),\n",
    "            html.Br(),\n",
    "            html.Br(),\n",
    "        ]), color = '#eff7fa'\n",
    "    ),\n",
    "    dbc.Toast( dbc.Container([html.Div(dcc.RangeSlider(  #slider\n",
    "                            id='date-slider',\n",
    "                            min=cluster_detail[\"Date\"].min(),\n",
    "                            max=cluster_detail[\"Date\"].max(),\n",
    "                            value=[0,5],\n",
    "                            tooltip={\"placement\": \"bottom\", \"always_visible\": True},\n",
    "                            step=None\n",
    "                        ), style={'width': '75%', 'padding': '20px 20px 20px 20px'})]),\n",
    "               header=\"Simulation Date\",\n",
    "               dismissable=False,\n",
    "\n",
    "               # top: 66 positions the toast below the navbar\n",
    "               style={\"position\": \"fixed\", \"bottom\": \"0\", \"width\": \"70%\", \"left\": \"15%\"},\n",
    "               )\n",
    "])\n",
    "@app.callback(\n",
    "    [Output('mapviz', 'figure'),Output('data_table', 'data'),Output('riskviz','figure'),Output(\"route_table\",\"data\"),Output(\"popviz\",\"figure\"),Output(\"h_suscept_viz\",\"figure\"),Output(\"h_incubate_viz\",\"figure\"),Output(\"h_infect_viz\",\"figure\")],\n",
    "    Input('date-slider', 'value'))\n",
    "def update_figure(value):\n",
    "    filtered_cluster_detail = cluster_detail[(cluster_detail.Date >= value[0]) & (cluster_detail.Date <= value[1])]\n",
    "    acc_cluster_detail = cluster_detail[(cluster_detail.Date >= value[0]) & (cluster_detail.Date <= value[1])]\n",
    "    fig = px.scatter_mapbox(filtered_cluster_detail, lat=\"lat\", lon=\"lon\",size=\"Infected\", hover_name=\"Cluster\", hover_data=[\"Risk\", \"population\"],\n",
    "                            color_discrete_sequence=[\"red\"], zoom=8, height=500)\n",
    "    fig.update_layout(mapbox_style=\"open-street-map\")\n",
    "    fig.update_layout(margin={\"r\":0,\"t\":0,\"l\":0,\"b\":0})\n",
    "\n",
    "    #---------------------------------------------\n",
    "    filtered_cluster_detail = cluster_detail[(cluster_detail.Date >= value[0]) & (cluster_detail.Date <= value[1])]\n",
    "    filtered_cluster_detail = filtered_cluster_detail.groupby(['Cluster'],as_index=False).agg({'Healthy': 'mean','Incubating':'mean',\"Infected\":'mean',\"Mosquitoes_Suscept\":\"mean\",\"Mosquitoes_Latent\":\"mean\",\"Mosquitoes_Infected\": \"mean\",\"Risk\": cal_accum_risk})\n",
    "    #----------------------------------------------\n",
    "    risk_fig = px.line(acc_cluster_detail, x='Date', y='Risk', color='Cluster', markers=True ,title= \"Cluster Risk overview\")\n",
    "\n",
    "    #----------------------------------------------\n",
    "    #filter_route_detail = new_route_df[new_route_df.Date == value]\n",
    "    filter_route_detail = new_route_df[(new_route_df.Date >= value[0]) & (new_route_df.Date <= value[1])]\n",
    "    filter_route_detail = filter_route_detail.groupby(['Route'],as_index=False).agg({'Healthy': 'sum','Incubating':'sum',\"Infected\":'sum'})\n",
    "\n",
    "    #----------------------------------------------\n",
    "    pop_fig = px.line(acc_cluster_detail, x='Date', y='Mosquitoes_Suscept', color='Cluster', markers=True, title=\"Population of Mosquitoes overview\")\n",
    "\n",
    "    #----------------------------------------------\n",
    "    h_sus_fig = px.line(acc_cluster_detail, x='Date', y='Healthy', color='Cluster', markers=True, title= \"Susceptible Agent on each cluster\")\n",
    "\n",
    "    #----------------------------------------------\n",
    "    h_inc_fig = px.line(acc_cluster_detail, x='Date', y='Incubating', color='Cluster', markers=True,title= \"Latent Agent on each cluster\" )\n",
    "\n",
    "\n",
    "    #----------------------------------------------\n",
    "    h_inf_fig = px.line(acc_cluster_detail, x='Date', y='Infected', color='Cluster', markers=True, title= \"Infected Agent on each cluster\")\n",
    "\n",
    "    return fig,filtered_cluster_detail.to_dict('records'), risk_fig, filter_route_detail.to_dict('records'), pop_fig, h_sus_fig ,h_inc_fig ,h_inf_fig\n",
    "\n",
    "# @app.callback(\n",
    "#     Output('data_table', 'data'),\n",
    "#     Input('date-slider', 'value'))\n",
    "# def update_table(value):\n",
    "#     filtered_cluster_detail = cluster_detail[cluster_detail.Date == value]\n",
    "#     return filtered_cluster_detail.to_dict('records')\n",
    "\n",
    "\n"
   ],
   "metadata": {
    "collapsed": false,
    "pycharm": {
     "name": "#%%\n"
    }
   }
  },
  {
   "cell_type": "code",
   "execution_count": 12,
   "outputs": [
    {
     "name": "stdout",
     "output_type": "stream",
     "text": [
      "Dash app running on http://127.0.0.1:8050/\n"
     ]
    }
   ],
   "source": [
    "app.run_server()"
   ],
   "metadata": {
    "collapsed": false,
    "pycharm": {
     "name": "#%%\n"
    }
   }
  },
  {
   "cell_type": "code",
   "execution_count": 13,
   "outputs": [
    {
     "ename": "TypeError",
     "evalue": "cal_accum_risk() missing 1 required positional argument: 'series'",
     "output_type": "error",
     "traceback": [
      "\u001B[0;31m---------------------------------------------------------------------------\u001B[0m",
      "\u001B[0;31mTypeError\u001B[0m                                 Traceback (most recent call last)",
      "Input \u001B[0;32mIn [13]\u001B[0m, in \u001B[0;36m<cell line: 1>\u001B[0;34m()\u001B[0m\n\u001B[0;32m----> 1\u001B[0m \u001B[43mcal_accum_risk\u001B[49m\u001B[43m(\u001B[49m\u001B[43m)\u001B[49m\n",
      "\u001B[0;31mTypeError\u001B[0m: cal_accum_risk() missing 1 required positional argument: 'series'"
     ]
    }
   ],
   "source": [],
   "metadata": {
    "collapsed": false,
    "pycharm": {
     "name": "#%%\n"
    }
   }
  },
  {
   "cell_type": "code",
   "execution_count": 25,
   "outputs": [
    {
     "data": {
      "text/plain": "      Date  Cluster  Healthy  Incubating  Infected  Mosquitoes_Suscept  \\\n2680   335        0       91         232       204       690558.840498   \n2681   335        1       19         118        96       691467.070953   \n2682   335        2      117         234       230       691467.662599   \n2683   335        3       17          91        85       691494.755152   \n2684   335        4       14         113        86       691105.385991   \n2685   335        5        0          33        17       691240.064702   \n2686   335        6       10          75        58       686131.505600   \n2687   335        7       60         267       233       687447.797632   \n\n      Mosquitoes_Latent  Mosquitoes_Infected      Risk        lat        lon  \\\n2680       63030.412130          2528.039906  0.121911  17.338760  98.106891   \n2681       62137.380458          2519.872940  0.276791  17.113713  98.400515   \n2682       62195.986111          2426.794139  0.106545  17.472902  98.026301   \n2683       62282.635166          2260.065376  0.297268  17.227205  98.225675   \n2684       62353.264158          2723.930066  0.327162  17.212100  97.768400   \n2685       62295.646182          2595.303622  1.322573  16.711983  98.566046   \n2686       67189.377959          2929.826955  0.526332  17.338300  97.667000   \n2687       66041.604628          2678.081982  0.122135  17.560811  97.920610   \n\n      population  \n2680         527  \n2681         233  \n2682         581  \n2683         193  \n2684         213  \n2685          50  \n2686         143  \n2687         560  ",
      "text/html": "<div>\n<style scoped>\n    .dataframe tbody tr th:only-of-type {\n        vertical-align: middle;\n    }\n\n    .dataframe tbody tr th {\n        vertical-align: top;\n    }\n\n    .dataframe thead th {\n        text-align: right;\n    }\n</style>\n<table border=\"1\" class=\"dataframe\">\n  <thead>\n    <tr style=\"text-align: right;\">\n      <th></th>\n      <th>Date</th>\n      <th>Cluster</th>\n      <th>Healthy</th>\n      <th>Incubating</th>\n      <th>Infected</th>\n      <th>Mosquitoes_Suscept</th>\n      <th>Mosquitoes_Latent</th>\n      <th>Mosquitoes_Infected</th>\n      <th>Risk</th>\n      <th>lat</th>\n      <th>lon</th>\n      <th>population</th>\n    </tr>\n  </thead>\n  <tbody>\n    <tr>\n      <th>2680</th>\n      <td>335</td>\n      <td>0</td>\n      <td>91</td>\n      <td>232</td>\n      <td>204</td>\n      <td>690558.840498</td>\n      <td>63030.412130</td>\n      <td>2528.039906</td>\n      <td>0.121911</td>\n      <td>17.338760</td>\n      <td>98.106891</td>\n      <td>527</td>\n    </tr>\n    <tr>\n      <th>2681</th>\n      <td>335</td>\n      <td>1</td>\n      <td>19</td>\n      <td>118</td>\n      <td>96</td>\n      <td>691467.070953</td>\n      <td>62137.380458</td>\n      <td>2519.872940</td>\n      <td>0.276791</td>\n      <td>17.113713</td>\n      <td>98.400515</td>\n      <td>233</td>\n    </tr>\n    <tr>\n      <th>2682</th>\n      <td>335</td>\n      <td>2</td>\n      <td>117</td>\n      <td>234</td>\n      <td>230</td>\n      <td>691467.662599</td>\n      <td>62195.986111</td>\n      <td>2426.794139</td>\n      <td>0.106545</td>\n      <td>17.472902</td>\n      <td>98.026301</td>\n      <td>581</td>\n    </tr>\n    <tr>\n      <th>2683</th>\n      <td>335</td>\n      <td>3</td>\n      <td>17</td>\n      <td>91</td>\n      <td>85</td>\n      <td>691494.755152</td>\n      <td>62282.635166</td>\n      <td>2260.065376</td>\n      <td>0.297268</td>\n      <td>17.227205</td>\n      <td>98.225675</td>\n      <td>193</td>\n    </tr>\n    <tr>\n      <th>2684</th>\n      <td>335</td>\n      <td>4</td>\n      <td>14</td>\n      <td>113</td>\n      <td>86</td>\n      <td>691105.385991</td>\n      <td>62353.264158</td>\n      <td>2723.930066</td>\n      <td>0.327162</td>\n      <td>17.212100</td>\n      <td>97.768400</td>\n      <td>213</td>\n    </tr>\n    <tr>\n      <th>2685</th>\n      <td>335</td>\n      <td>5</td>\n      <td>0</td>\n      <td>33</td>\n      <td>17</td>\n      <td>691240.064702</td>\n      <td>62295.646182</td>\n      <td>2595.303622</td>\n      <td>1.322573</td>\n      <td>16.711983</td>\n      <td>98.566046</td>\n      <td>50</td>\n    </tr>\n    <tr>\n      <th>2686</th>\n      <td>335</td>\n      <td>6</td>\n      <td>10</td>\n      <td>75</td>\n      <td>58</td>\n      <td>686131.505600</td>\n      <td>67189.377959</td>\n      <td>2929.826955</td>\n      <td>0.526332</td>\n      <td>17.338300</td>\n      <td>97.667000</td>\n      <td>143</td>\n    </tr>\n    <tr>\n      <th>2687</th>\n      <td>335</td>\n      <td>7</td>\n      <td>60</td>\n      <td>267</td>\n      <td>233</td>\n      <td>687447.797632</td>\n      <td>66041.604628</td>\n      <td>2678.081982</td>\n      <td>0.122135</td>\n      <td>17.560811</td>\n      <td>97.920610</td>\n      <td>560</td>\n    </tr>\n  </tbody>\n</table>\n</div>"
     },
     "execution_count": 25,
     "metadata": {},
     "output_type": "execute_result"
    }
   ],
   "source": [
    "cluster_detail[cluster_detail.Date == 335 ]"
   ],
   "metadata": {
    "collapsed": false,
    "pycharm": {
     "name": "#%%\n"
    }
   }
  },
  {
   "cell_type": "code",
   "execution_count": null,
   "outputs": [],
   "source": [],
   "metadata": {
    "collapsed": false,
    "pycharm": {
     "name": "#%%\n"
    }
   }
  }
 ],
 "metadata": {
  "kernelspec": {
   "display_name": "Python 3",
   "language": "python",
   "name": "python3"
  },
  "language_info": {
   "codemirror_mode": {
    "name": "ipython",
    "version": 2
   },
   "file_extension": ".py",
   "mimetype": "text/x-python",
   "name": "python",
   "nbconvert_exporter": "python",
   "pygments_lexer": "ipython2",
   "version": "2.7.6"
  }
 },
 "nbformat": 4,
 "nbformat_minor": 0
}