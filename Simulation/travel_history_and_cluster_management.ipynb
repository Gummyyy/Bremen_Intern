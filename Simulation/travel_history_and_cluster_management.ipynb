{
 "cells": [
  {
   "cell_type": "code",
   "execution_count": 1,
   "outputs": [],
   "source": [
    "import pandas as pd"
   ],
   "metadata": {
    "collapsed": false,
    "pycharm": {
     "name": "#%%\n"
    }
   }
  },
  {
   "cell_type": "markdown",
   "source": [
    "Cluster define"
   ],
   "metadata": {
    "collapsed": false,
    "pycharm": {
     "name": "#%% md\n"
    }
   }
  },
  {
   "cell_type": "code",
   "execution_count": 3,
   "outputs": [
    {
     "data": {
      "text/plain": "0    0\n1    1\n2    2\n3    3\n4    4\n5    5\n6    6\n7    7\nName: cluster, dtype: int64"
     },
     "execution_count": 3,
     "metadata": {},
     "output_type": "execute_result"
    }
   ],
   "source": [
    "\n",
    "cluster_lat=[17.33876038,\n",
    "             17.11371281,\n",
    "             17.47290157,\n",
    "             17.22720545,\n",
    "             17.2121,\n",
    "             16.71198301,\n",
    "             17.3383,\n",
    "             17.56081089]\n",
    "cluster_long=[98.1068906,\n",
    "              98.40051491,\n",
    "              98.02630126,\n",
    "              98.22567455,\n",
    "              97.7684,\n",
    "              98.56604615,\n",
    "              97.6670,\n",
    "              97.92060989]\n",
    "data = {\"cluster\": list(range(0,8)),\"lat\": cluster_lat,\"long\":cluster_long}\n",
    "cluster_location = pd.DataFrame(data= data)\n",
    "cluster_location[\"cluster\"]"
   ],
   "metadata": {
    "collapsed": false,
    "pycharm": {
     "name": "#%%\n"
    }
   }
  },
  {
   "cell_type": "code",
   "execution_count": 4,
   "outputs": [],
   "source": [
    "cluster_location[\"cluster\"]\n",
    "cluster_location_export = cluster_location.rename(columns={\"cluster\": \"id\", \"long\": \"lon\"})\n",
    "cluster_location_export[\"name\"] = cluster_location_export[\"id\"]\n",
    "cluster_location_export.to_csv(\"cluster_location.csv\", encoding=\"utf-8\", index=False)"
   ],
   "metadata": {
    "collapsed": false,
    "pycharm": {
     "name": "#%%\n"
    }
   }
  },
  {
   "cell_type": "code",
   "execution_count": 6,
   "outputs": [
    {
     "data": {
      "text/plain": "        agentID  occupation  date  start  destination health_stage\n0             4     Officer     1      0            4      Healthy\n1             6     Officer     1      0            5      Healthy\n2             7     Officer     1      0            2      Healthy\n3             9     Officer     1      0            4      Healthy\n4            13     Officer     1      0            2      Healthy\n...         ...         ...   ...    ...          ...          ...\n150005     2475  Unemployed   365      1            7      Healthy\n150006     2478  Unemployed   365      7            2      Healthy\n150007     2481  Unemployed   365      4            7      Healthy\n150008     2486  Unemployed   365      2            1      Healthy\n150009     2488  Unemployed   365      7            4      Healthy\n\n[150010 rows x 6 columns]",
      "text/html": "<div>\n<style scoped>\n    .dataframe tbody tr th:only-of-type {\n        vertical-align: middle;\n    }\n\n    .dataframe tbody tr th {\n        vertical-align: top;\n    }\n\n    .dataframe thead th {\n        text-align: right;\n    }\n</style>\n<table border=\"1\" class=\"dataframe\">\n  <thead>\n    <tr style=\"text-align: right;\">\n      <th></th>\n      <th>agentID</th>\n      <th>occupation</th>\n      <th>date</th>\n      <th>start</th>\n      <th>destination</th>\n      <th>health_stage</th>\n    </tr>\n  </thead>\n  <tbody>\n    <tr>\n      <th>0</th>\n      <td>4</td>\n      <td>Officer</td>\n      <td>1</td>\n      <td>0</td>\n      <td>4</td>\n      <td>Healthy</td>\n    </tr>\n    <tr>\n      <th>1</th>\n      <td>6</td>\n      <td>Officer</td>\n      <td>1</td>\n      <td>0</td>\n      <td>5</td>\n      <td>Healthy</td>\n    </tr>\n    <tr>\n      <th>2</th>\n      <td>7</td>\n      <td>Officer</td>\n      <td>1</td>\n      <td>0</td>\n      <td>2</td>\n      <td>Healthy</td>\n    </tr>\n    <tr>\n      <th>3</th>\n      <td>9</td>\n      <td>Officer</td>\n      <td>1</td>\n      <td>0</td>\n      <td>4</td>\n      <td>Healthy</td>\n    </tr>\n    <tr>\n      <th>4</th>\n      <td>13</td>\n      <td>Officer</td>\n      <td>1</td>\n      <td>0</td>\n      <td>2</td>\n      <td>Healthy</td>\n    </tr>\n    <tr>\n      <th>...</th>\n      <td>...</td>\n      <td>...</td>\n      <td>...</td>\n      <td>...</td>\n      <td>...</td>\n      <td>...</td>\n    </tr>\n    <tr>\n      <th>150005</th>\n      <td>2475</td>\n      <td>Unemployed</td>\n      <td>365</td>\n      <td>1</td>\n      <td>7</td>\n      <td>Healthy</td>\n    </tr>\n    <tr>\n      <th>150006</th>\n      <td>2478</td>\n      <td>Unemployed</td>\n      <td>365</td>\n      <td>7</td>\n      <td>2</td>\n      <td>Healthy</td>\n    </tr>\n    <tr>\n      <th>150007</th>\n      <td>2481</td>\n      <td>Unemployed</td>\n      <td>365</td>\n      <td>4</td>\n      <td>7</td>\n      <td>Healthy</td>\n    </tr>\n    <tr>\n      <th>150008</th>\n      <td>2486</td>\n      <td>Unemployed</td>\n      <td>365</td>\n      <td>2</td>\n      <td>1</td>\n      <td>Healthy</td>\n    </tr>\n    <tr>\n      <th>150009</th>\n      <td>2488</td>\n      <td>Unemployed</td>\n      <td>365</td>\n      <td>7</td>\n      <td>4</td>\n      <td>Healthy</td>\n    </tr>\n  </tbody>\n</table>\n<p>150010 rows × 6 columns</p>\n</div>"
     },
     "execution_count": 6,
     "metadata": {},
     "output_type": "execute_result"
    }
   ],
   "source": [
    "travel_record = pd.read_csv('travel_history.csv')\n",
    "travel_record"
   ],
   "metadata": {
    "collapsed": false,
    "pycharm": {
     "name": "#%%\n"
    }
   }
  },
  {
   "cell_type": "code",
   "execution_count": 7,
   "outputs": [],
   "source": [
    "travel_record_summary = travel_record.groupby([\"start\",\"destination\"]).size().reset_index(name='counts')\n",
    "travel_record_summary = travel_record_summary.rename(columns={\"start\": \"origin\", \"destination\": \"dest\",\"counts\":\"count\"})\n",
    "trs_officer = travel_record[travel_record['occupation'] == \"Officer\" ].groupby([\"start\",\"destination\"]).size().reset_index(name='counts')\n",
    "trs_officer.rename(columns={\"start\": \"origin\", \"destination\": \"dest\",\"counts\":\"count\"})\n",
    "trs_farmer =   travel_record[travel_record['occupation'] == \"Farmer\" ].groupby([\"start\",\"destination\"]).size().reset_index(name='counts')\n",
    "trs_farmer.rename(columns={\"start\": \"origin\", \"destination\": \"dest\",\"counts\":\"count\"})\n",
    "trs_unemploy = travel_record[travel_record['occupation'] == \"Unemployed\" ].groupby([\"start\",\"destination\"]).size().reset_index(name='counts')\n",
    "trs_unemploy.rename(columns={\"start\": \"origin\", \"destination\": \"dest\",\"counts\":\"count\"})\n",
    "\n",
    "travel_record_summary.to_csv(\"travel_summary.csv\",encoding=\"utf-8\" ,index=False)"
   ],
   "metadata": {
    "collapsed": false,
    "pycharm": {
     "name": "#%%\n"
    }
   }
  },
  {
   "cell_type": "code",
   "execution_count": 8,
   "outputs": [
    {
     "data": {
      "text/plain": "        agentID  occupation  date  start  destination health_stage  start_lat  \\\n0             4     Officer     1      0            4      Healthy  17.338760   \n1             9     Officer     1      0            4      Healthy  17.338760   \n2            59     Officer     1      0            4      Healthy  17.338760   \n3           217  Unemployed     1      0            4      Healthy  17.338760   \n4            21     Officer     2      0            4      Healthy  17.338760   \n...         ...         ...   ...    ...          ...          ...        ...   \n150005     1229     Officer   365      7            6      Healthy  17.560811   \n150006     1508     Officer   365      7            6      Healthy  17.560811   \n150007     1544     Officer   365      7            6      Healthy  17.560811   \n150008     1550     Officer   365      7            6      Healthy  17.560811   \n150009     2152     Officer   365      7            6      Healthy  17.560811   \n\n        start_long  destination_lat  destination_long  \n0        98.106891          17.2121           97.7684  \n1        98.106891          17.2121           97.7684  \n2        98.106891          17.2121           97.7684  \n3        98.106891          17.2121           97.7684  \n4        98.106891          17.2121           97.7684  \n...            ...              ...               ...  \n150005   97.920610          17.3383           97.6670  \n150006   97.920610          17.3383           97.6670  \n150007   97.920610          17.3383           97.6670  \n150008   97.920610          17.3383           97.6670  \n150009   97.920610          17.3383           97.6670  \n\n[150010 rows x 10 columns]",
      "text/html": "<div>\n<style scoped>\n    .dataframe tbody tr th:only-of-type {\n        vertical-align: middle;\n    }\n\n    .dataframe tbody tr th {\n        vertical-align: top;\n    }\n\n    .dataframe thead th {\n        text-align: right;\n    }\n</style>\n<table border=\"1\" class=\"dataframe\">\n  <thead>\n    <tr style=\"text-align: right;\">\n      <th></th>\n      <th>agentID</th>\n      <th>occupation</th>\n      <th>date</th>\n      <th>start</th>\n      <th>destination</th>\n      <th>health_stage</th>\n      <th>start_lat</th>\n      <th>start_long</th>\n      <th>destination_lat</th>\n      <th>destination_long</th>\n    </tr>\n  </thead>\n  <tbody>\n    <tr>\n      <th>0</th>\n      <td>4</td>\n      <td>Officer</td>\n      <td>1</td>\n      <td>0</td>\n      <td>4</td>\n      <td>Healthy</td>\n      <td>17.338760</td>\n      <td>98.106891</td>\n      <td>17.2121</td>\n      <td>97.7684</td>\n    </tr>\n    <tr>\n      <th>1</th>\n      <td>9</td>\n      <td>Officer</td>\n      <td>1</td>\n      <td>0</td>\n      <td>4</td>\n      <td>Healthy</td>\n      <td>17.338760</td>\n      <td>98.106891</td>\n      <td>17.2121</td>\n      <td>97.7684</td>\n    </tr>\n    <tr>\n      <th>2</th>\n      <td>59</td>\n      <td>Officer</td>\n      <td>1</td>\n      <td>0</td>\n      <td>4</td>\n      <td>Healthy</td>\n      <td>17.338760</td>\n      <td>98.106891</td>\n      <td>17.2121</td>\n      <td>97.7684</td>\n    </tr>\n    <tr>\n      <th>3</th>\n      <td>217</td>\n      <td>Unemployed</td>\n      <td>1</td>\n      <td>0</td>\n      <td>4</td>\n      <td>Healthy</td>\n      <td>17.338760</td>\n      <td>98.106891</td>\n      <td>17.2121</td>\n      <td>97.7684</td>\n    </tr>\n    <tr>\n      <th>4</th>\n      <td>21</td>\n      <td>Officer</td>\n      <td>2</td>\n      <td>0</td>\n      <td>4</td>\n      <td>Healthy</td>\n      <td>17.338760</td>\n      <td>98.106891</td>\n      <td>17.2121</td>\n      <td>97.7684</td>\n    </tr>\n    <tr>\n      <th>...</th>\n      <td>...</td>\n      <td>...</td>\n      <td>...</td>\n      <td>...</td>\n      <td>...</td>\n      <td>...</td>\n      <td>...</td>\n      <td>...</td>\n      <td>...</td>\n      <td>...</td>\n    </tr>\n    <tr>\n      <th>150005</th>\n      <td>1229</td>\n      <td>Officer</td>\n      <td>365</td>\n      <td>7</td>\n      <td>6</td>\n      <td>Healthy</td>\n      <td>17.560811</td>\n      <td>97.920610</td>\n      <td>17.3383</td>\n      <td>97.6670</td>\n    </tr>\n    <tr>\n      <th>150006</th>\n      <td>1508</td>\n      <td>Officer</td>\n      <td>365</td>\n      <td>7</td>\n      <td>6</td>\n      <td>Healthy</td>\n      <td>17.560811</td>\n      <td>97.920610</td>\n      <td>17.3383</td>\n      <td>97.6670</td>\n    </tr>\n    <tr>\n      <th>150007</th>\n      <td>1544</td>\n      <td>Officer</td>\n      <td>365</td>\n      <td>7</td>\n      <td>6</td>\n      <td>Healthy</td>\n      <td>17.560811</td>\n      <td>97.920610</td>\n      <td>17.3383</td>\n      <td>97.6670</td>\n    </tr>\n    <tr>\n      <th>150008</th>\n      <td>1550</td>\n      <td>Officer</td>\n      <td>365</td>\n      <td>7</td>\n      <td>6</td>\n      <td>Healthy</td>\n      <td>17.560811</td>\n      <td>97.920610</td>\n      <td>17.3383</td>\n      <td>97.6670</td>\n    </tr>\n    <tr>\n      <th>150009</th>\n      <td>2152</td>\n      <td>Officer</td>\n      <td>365</td>\n      <td>7</td>\n      <td>6</td>\n      <td>Healthy</td>\n      <td>17.560811</td>\n      <td>97.920610</td>\n      <td>17.3383</td>\n      <td>97.6670</td>\n    </tr>\n  </tbody>\n</table>\n<p>150010 rows × 10 columns</p>\n</div>"
     },
     "execution_count": 8,
     "metadata": {},
     "output_type": "execute_result"
    }
   ],
   "source": [
    "travel_record_df = pd.merge(travel_record, cluster_location, left_on='start', right_on='cluster')\n",
    "travel_record_df = pd.merge(travel_record_df, cluster_location, left_on='destination', right_on='cluster')\n",
    "travel_record_df=travel_record_df.drop(columns=[\"cluster_x\",\"cluster_y\"])\n",
    "travel_record_df=travel_record_df.rename(columns={\"lat_x\": \"start_lat\", \"long_x\": \"start_long\",\"lat_y\": \"destination_lat\", \"long_y\": \"destination_long\"})\n",
    "travel_record_df"
   ],
   "metadata": {
    "collapsed": false,
    "pycharm": {
     "name": "#%%\n"
    }
   }
  },
  {
   "cell_type": "code",
   "execution_count": 9,
   "outputs": [
    {
     "data": {
      "text/plain": "    origin  dest  count\n0        0     1   3076\n1        0     2  12472\n2        0     3   7762\n3        0     4   3097\n4        0     5   3065\n5        0     7   1501\n6        1     0   5353\n7        1     7   8046\n8        2     0  17182\n9        2     1  10256\n10       2     3   3351\n11       2     7   3424\n12       3     2   4508\n13       3     7   6717\n14       4     0   6996\n15       4     7   6980\n16       5     0   1693\n17       5     7   1614\n18       6     7   7450\n19       7     2  17503\n20       7     4  10702\n21       7     6   7262",
      "text/html": "<div>\n<style scoped>\n    .dataframe tbody tr th:only-of-type {\n        vertical-align: middle;\n    }\n\n    .dataframe tbody tr th {\n        vertical-align: top;\n    }\n\n    .dataframe thead th {\n        text-align: right;\n    }\n</style>\n<table border=\"1\" class=\"dataframe\">\n  <thead>\n    <tr style=\"text-align: right;\">\n      <th></th>\n      <th>origin</th>\n      <th>dest</th>\n      <th>count</th>\n    </tr>\n  </thead>\n  <tbody>\n    <tr>\n      <th>0</th>\n      <td>0</td>\n      <td>1</td>\n      <td>3076</td>\n    </tr>\n    <tr>\n      <th>1</th>\n      <td>0</td>\n      <td>2</td>\n      <td>12472</td>\n    </tr>\n    <tr>\n      <th>2</th>\n      <td>0</td>\n      <td>3</td>\n      <td>7762</td>\n    </tr>\n    <tr>\n      <th>3</th>\n      <td>0</td>\n      <td>4</td>\n      <td>3097</td>\n    </tr>\n    <tr>\n      <th>4</th>\n      <td>0</td>\n      <td>5</td>\n      <td>3065</td>\n    </tr>\n    <tr>\n      <th>5</th>\n      <td>0</td>\n      <td>7</td>\n      <td>1501</td>\n    </tr>\n    <tr>\n      <th>6</th>\n      <td>1</td>\n      <td>0</td>\n      <td>5353</td>\n    </tr>\n    <tr>\n      <th>7</th>\n      <td>1</td>\n      <td>7</td>\n      <td>8046</td>\n    </tr>\n    <tr>\n      <th>8</th>\n      <td>2</td>\n      <td>0</td>\n      <td>17182</td>\n    </tr>\n    <tr>\n      <th>9</th>\n      <td>2</td>\n      <td>1</td>\n      <td>10256</td>\n    </tr>\n    <tr>\n      <th>10</th>\n      <td>2</td>\n      <td>3</td>\n      <td>3351</td>\n    </tr>\n    <tr>\n      <th>11</th>\n      <td>2</td>\n      <td>7</td>\n      <td>3424</td>\n    </tr>\n    <tr>\n      <th>12</th>\n      <td>3</td>\n      <td>2</td>\n      <td>4508</td>\n    </tr>\n    <tr>\n      <th>13</th>\n      <td>3</td>\n      <td>7</td>\n      <td>6717</td>\n    </tr>\n    <tr>\n      <th>14</th>\n      <td>4</td>\n      <td>0</td>\n      <td>6996</td>\n    </tr>\n    <tr>\n      <th>15</th>\n      <td>4</td>\n      <td>7</td>\n      <td>6980</td>\n    </tr>\n    <tr>\n      <th>16</th>\n      <td>5</td>\n      <td>0</td>\n      <td>1693</td>\n    </tr>\n    <tr>\n      <th>17</th>\n      <td>5</td>\n      <td>7</td>\n      <td>1614</td>\n    </tr>\n    <tr>\n      <th>18</th>\n      <td>6</td>\n      <td>7</td>\n      <td>7450</td>\n    </tr>\n    <tr>\n      <th>19</th>\n      <td>7</td>\n      <td>2</td>\n      <td>17503</td>\n    </tr>\n    <tr>\n      <th>20</th>\n      <td>7</td>\n      <td>4</td>\n      <td>10702</td>\n    </tr>\n    <tr>\n      <th>21</th>\n      <td>7</td>\n      <td>6</td>\n      <td>7262</td>\n    </tr>\n  </tbody>\n</table>\n</div>"
     },
     "execution_count": 9,
     "metadata": {},
     "output_type": "execute_result"
    }
   ],
   "source": [
    "travel_record_summary"
   ],
   "metadata": {
    "collapsed": false,
    "pycharm": {
     "name": "#%%\n"
    }
   }
  },
  {
   "cell_type": "code",
   "execution_count": 11,
   "outputs": [
    {
     "data": {
      "text/plain": "    origin  dest  count  start_lat  start_lon  destination_lat  \\\n0        0     1   3076  17.338760  98.106891        17.113713   \n1        2     1  10256  17.472902  98.026301        17.113713   \n2        0     2  12472  17.338760  98.106891        17.472902   \n3        3     2   4508  17.227205  98.225675        17.472902   \n4        7     2  17503  17.560811  97.920610        17.472902   \n5        0     3   7762  17.338760  98.106891        17.227205   \n6        2     3   3351  17.472902  98.026301        17.227205   \n7        0     4   3097  17.338760  98.106891        17.212100   \n8        7     4  10702  17.560811  97.920610        17.212100   \n9        0     5   3065  17.338760  98.106891        16.711983   \n10       0     7   1501  17.338760  98.106891        17.560811   \n11       1     7   8046  17.113713  98.400515        17.560811   \n12       2     7   3424  17.472902  98.026301        17.560811   \n13       3     7   6717  17.227205  98.225675        17.560811   \n14       4     7   6980  17.212100  97.768400        17.560811   \n15       5     7   1614  16.711983  98.566046        17.560811   \n16       6     7   7450  17.338300  97.667000        17.560811   \n17       1     0   5353  17.113713  98.400515        17.338760   \n18       2     0  17182  17.472902  98.026301        17.338760   \n19       4     0   6996  17.212100  97.768400        17.338760   \n20       5     0   1693  16.711983  98.566046        17.338760   \n21       7     6   7262  17.560811  97.920610        17.338300   \n\n    destination_lon  \n0         98.400515  \n1         98.400515  \n2         98.026301  \n3         98.026301  \n4         98.026301  \n5         98.225675  \n6         98.225675  \n7         97.768400  \n8         97.768400  \n9         98.566046  \n10        97.920610  \n11        97.920610  \n12        97.920610  \n13        97.920610  \n14        97.920610  \n15        97.920610  \n16        97.920610  \n17        98.106891  \n18        98.106891  \n19        98.106891  \n20        98.106891  \n21        97.667000  ",
      "text/html": "<div>\n<style scoped>\n    .dataframe tbody tr th:only-of-type {\n        vertical-align: middle;\n    }\n\n    .dataframe tbody tr th {\n        vertical-align: top;\n    }\n\n    .dataframe thead th {\n        text-align: right;\n    }\n</style>\n<table border=\"1\" class=\"dataframe\">\n  <thead>\n    <tr style=\"text-align: right;\">\n      <th></th>\n      <th>origin</th>\n      <th>dest</th>\n      <th>count</th>\n      <th>start_lat</th>\n      <th>start_lon</th>\n      <th>destination_lat</th>\n      <th>destination_lon</th>\n    </tr>\n  </thead>\n  <tbody>\n    <tr>\n      <th>0</th>\n      <td>0</td>\n      <td>1</td>\n      <td>3076</td>\n      <td>17.338760</td>\n      <td>98.106891</td>\n      <td>17.113713</td>\n      <td>98.400515</td>\n    </tr>\n    <tr>\n      <th>1</th>\n      <td>2</td>\n      <td>1</td>\n      <td>10256</td>\n      <td>17.472902</td>\n      <td>98.026301</td>\n      <td>17.113713</td>\n      <td>98.400515</td>\n    </tr>\n    <tr>\n      <th>2</th>\n      <td>0</td>\n      <td>2</td>\n      <td>12472</td>\n      <td>17.338760</td>\n      <td>98.106891</td>\n      <td>17.472902</td>\n      <td>98.026301</td>\n    </tr>\n    <tr>\n      <th>3</th>\n      <td>3</td>\n      <td>2</td>\n      <td>4508</td>\n      <td>17.227205</td>\n      <td>98.225675</td>\n      <td>17.472902</td>\n      <td>98.026301</td>\n    </tr>\n    <tr>\n      <th>4</th>\n      <td>7</td>\n      <td>2</td>\n      <td>17503</td>\n      <td>17.560811</td>\n      <td>97.920610</td>\n      <td>17.472902</td>\n      <td>98.026301</td>\n    </tr>\n    <tr>\n      <th>5</th>\n      <td>0</td>\n      <td>3</td>\n      <td>7762</td>\n      <td>17.338760</td>\n      <td>98.106891</td>\n      <td>17.227205</td>\n      <td>98.225675</td>\n    </tr>\n    <tr>\n      <th>6</th>\n      <td>2</td>\n      <td>3</td>\n      <td>3351</td>\n      <td>17.472902</td>\n      <td>98.026301</td>\n      <td>17.227205</td>\n      <td>98.225675</td>\n    </tr>\n    <tr>\n      <th>7</th>\n      <td>0</td>\n      <td>4</td>\n      <td>3097</td>\n      <td>17.338760</td>\n      <td>98.106891</td>\n      <td>17.212100</td>\n      <td>97.768400</td>\n    </tr>\n    <tr>\n      <th>8</th>\n      <td>7</td>\n      <td>4</td>\n      <td>10702</td>\n      <td>17.560811</td>\n      <td>97.920610</td>\n      <td>17.212100</td>\n      <td>97.768400</td>\n    </tr>\n    <tr>\n      <th>9</th>\n      <td>0</td>\n      <td>5</td>\n      <td>3065</td>\n      <td>17.338760</td>\n      <td>98.106891</td>\n      <td>16.711983</td>\n      <td>98.566046</td>\n    </tr>\n    <tr>\n      <th>10</th>\n      <td>0</td>\n      <td>7</td>\n      <td>1501</td>\n      <td>17.338760</td>\n      <td>98.106891</td>\n      <td>17.560811</td>\n      <td>97.920610</td>\n    </tr>\n    <tr>\n      <th>11</th>\n      <td>1</td>\n      <td>7</td>\n      <td>8046</td>\n      <td>17.113713</td>\n      <td>98.400515</td>\n      <td>17.560811</td>\n      <td>97.920610</td>\n    </tr>\n    <tr>\n      <th>12</th>\n      <td>2</td>\n      <td>7</td>\n      <td>3424</td>\n      <td>17.472902</td>\n      <td>98.026301</td>\n      <td>17.560811</td>\n      <td>97.920610</td>\n    </tr>\n    <tr>\n      <th>13</th>\n      <td>3</td>\n      <td>7</td>\n      <td>6717</td>\n      <td>17.227205</td>\n      <td>98.225675</td>\n      <td>17.560811</td>\n      <td>97.920610</td>\n    </tr>\n    <tr>\n      <th>14</th>\n      <td>4</td>\n      <td>7</td>\n      <td>6980</td>\n      <td>17.212100</td>\n      <td>97.768400</td>\n      <td>17.560811</td>\n      <td>97.920610</td>\n    </tr>\n    <tr>\n      <th>15</th>\n      <td>5</td>\n      <td>7</td>\n      <td>1614</td>\n      <td>16.711983</td>\n      <td>98.566046</td>\n      <td>17.560811</td>\n      <td>97.920610</td>\n    </tr>\n    <tr>\n      <th>16</th>\n      <td>6</td>\n      <td>7</td>\n      <td>7450</td>\n      <td>17.338300</td>\n      <td>97.667000</td>\n      <td>17.560811</td>\n      <td>97.920610</td>\n    </tr>\n    <tr>\n      <th>17</th>\n      <td>1</td>\n      <td>0</td>\n      <td>5353</td>\n      <td>17.113713</td>\n      <td>98.400515</td>\n      <td>17.338760</td>\n      <td>98.106891</td>\n    </tr>\n    <tr>\n      <th>18</th>\n      <td>2</td>\n      <td>0</td>\n      <td>17182</td>\n      <td>17.472902</td>\n      <td>98.026301</td>\n      <td>17.338760</td>\n      <td>98.106891</td>\n    </tr>\n    <tr>\n      <th>19</th>\n      <td>4</td>\n      <td>0</td>\n      <td>6996</td>\n      <td>17.212100</td>\n      <td>97.768400</td>\n      <td>17.338760</td>\n      <td>98.106891</td>\n    </tr>\n    <tr>\n      <th>20</th>\n      <td>5</td>\n      <td>0</td>\n      <td>1693</td>\n      <td>16.711983</td>\n      <td>98.566046</td>\n      <td>17.338760</td>\n      <td>98.106891</td>\n    </tr>\n    <tr>\n      <th>21</th>\n      <td>7</td>\n      <td>6</td>\n      <td>7262</td>\n      <td>17.560811</td>\n      <td>97.920610</td>\n      <td>17.338300</td>\n      <td>97.667000</td>\n    </tr>\n  </tbody>\n</table>\n</div>"
     },
     "execution_count": 11,
     "metadata": {},
     "output_type": "execute_result"
    }
   ],
   "source": [
    "travel_summary_latlng = pd.merge(travel_record_summary, cluster_location, left_on='origin', right_on='cluster')\n",
    "travel_summary_latlng = pd.merge(travel_summary_latlng, cluster_location, left_on='dest', right_on='cluster')\n",
    "travel_summary_latlng = travel_summary_latlng.drop(columns=[\"cluster_x\", \"cluster_y\"])\n",
    "travel_summary_latlng = travel_summary_latlng.rename(\n",
    "    columns={\"lat_x\": \"start_lat\", \"long_x\": \"start_lon\", \"lat_y\": \"destination_lat\", \"long_y\": \"destination_lon\"})\n",
    "travel_summary_latlng"
   ],
   "metadata": {
    "collapsed": false,
    "pycharm": {
     "name": "#%%\n"
    }
   }
  },
  {
   "cell_type": "code",
   "execution_count": 12,
   "outputs": [],
   "source": [
    "cluster_location.to_json(r\"./cluster_location.json\",orient=\"records\")\n",
    "travel_summary_latlng.to_json(r\"./travel_summary.json\",orient=\"records\")"
   ],
   "metadata": {
    "collapsed": false,
    "pycharm": {
     "name": "#%%\n"
    }
   }
  }
 ],
 "metadata": {
  "kernelspec": {
   "display_name": "Python 3",
   "language": "python",
   "name": "python3"
  },
  "language_info": {
   "codemirror_mode": {
    "name": "ipython",
    "version": 2
   },
   "file_extension": ".py",
   "mimetype": "text/x-python",
   "name": "python",
   "nbconvert_exporter": "python",
   "pygments_lexer": "ipython2",
   "version": "2.7.6"
  }
 },
 "nbformat": 4,
 "nbformat_minor": 0
}